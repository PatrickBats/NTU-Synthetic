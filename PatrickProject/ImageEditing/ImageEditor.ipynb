{
 "cells": [
  {
   "cell_type": "code",
   "execution_count": null,
   "metadata": {},
   "outputs": [],
   "source": "import os\nimport sys\nfrom typing import List, Tuple\nfrom PIL import Image, ImageOps\nimport matplotlib.pyplot as plt\nimport torch\nfrom torchvision.transforms.functional import to_tensor\nimport accelerate\nfrom pathlib import Path\n\n# Add OmniGen2 to path\nroot_dir = Path().resolve()\nomnigen_path = root_dir / \"OmniGen2-main\"\nsys.path.append(str(omnigen_path))\n\nfrom omnigen2.pipelines.omnigen2.pipeline_omnigen2 import OmniGen2Pipeline\nfrom omnigen2.models.transformers.transformer_omnigen2 import OmniGen2Transformer2DModel\nfrom omnigen2.utils.img_util import create_collage"
  },
  {
   "cell_type": "code",
   "execution_count": 2,
   "metadata": {},
   "outputs": [],
   "source": [
    "import os\n",
    "from typing import List, Union\n",
    "from PIL import Image, ImageOps\n",
    "\n",
    "def preprocess(input_image_path: Union[str, List[str], None] = None) -> List[Image.Image]:\n",
    "    \"\"\"\n",
    "    Preprocess the input images by:\n",
    "    - Accepting a single path, list of paths, or a directory\n",
    "    - Loading only common image files\n",
    "    - Correcting orientation via EXIF\n",
    "    - Converting to 3‑channel RGB (drops alpha)\n",
    "    \"\"\"\n",
    "    if input_image_path is None:\n",
    "        return []\n",
    "\n",
    "    # Normalize to a list of paths\n",
    "    if isinstance(input_image_path, str):\n",
    "        paths = [input_image_path]\n",
    "    else:\n",
    "        paths = input_image_path\n",
    "\n",
    "    images: List[Image.Image] = []\n",
    "    for p in paths:\n",
    "        if os.path.isdir(p):\n",
    "            for fname in os.listdir(p):\n",
    "                if fname.lower().endswith((\".png\", \".jpg\", \".jpeg\", \".bmp\", \".gif\")):\n",
    "                    img = Image.open(os.path.join(p, fname))\n",
    "                    images.append(img)\n",
    "        else:\n",
    "            img = Image.open(p)\n",
    "            images.append(img)\n",
    "\n",
    "    # EXIF transpose + strip alpha channel\n",
    "    processed = []\n",
    "    for img in images:\n",
    "        img = ImageOps.exif_transpose(img).convert(\"RGB\")\n",
    "        processed.append(img)\n",
    "\n",
    "    return processed\n"
   ]
  },
  {
   "cell_type": "markdown",
   "metadata": {},
   "source": [
    "**Pipeline Initialization**"
   ]
  },
  {
   "cell_type": "code",
   "execution_count": null,
   "metadata": {},
   "outputs": [],
   "source": "accelerator = accelerate.Accelerator()\n\n# Initialize the pipeline from Hugging Face with CPU offloading\nmodel_path = \"OmniGen2/OmniGen2\"\npipeline = OmniGen2Pipeline.from_pretrained(\n    model_path,\n    torch_dtype=torch.bfloat16,\n    trust_remote_code=True,\n    enable_model_cpu_offload=True  # Reduces VRAM usage by ~50% with minimal speed impact\n)\npipeline.transformer = OmniGen2Transformer2DModel.from_pretrained(\n    model_path,\n    subfolder=\"transformer\",\n    torch_dtype=torch.bfloat16,\n)\npipeline = pipeline.to(accelerator.device, dtype=torch.bfloat16)"
  },
  {
   "cell_type": "markdown",
   "metadata": {},
   "source": [
    "**Editing with instruction**"
   ]
  },
  {
   "cell_type": "code",
   "execution_count": null,
   "metadata": {},
   "outputs": [],
   "source": "# Example of editing an image\ndef edit_image(image_path: str, prompt: str, negative_prompt: str = None):\n    \"\"\"\n    Edit an image using OmniGen2\n    Args:\n        image_path: Path to the input image\n        prompt: Instruction for editing\n        negative_prompt: What to avoid in generation\n    \"\"\"\n    if negative_prompt is None:\n        negative_prompt = \"(((deformed))), blurry, over saturation, bad anatomy, disfigured, poorly drawn face, mutation, mutated, (extra_limb), (ugly), (poorly drawn hands), fused fingers, messy drawing, broken legs\"\n    \n    # Load and preprocess image\n    input_imgs = preprocess(image_path)\n    \n    # Generate\n    gen = torch.Generator(device=accelerator.device).manual_seed(0)\n    result = pipeline(\n        prompt=prompt,\n        input_images=input_imgs,\n        num_inference_steps=50,\n        max_sequence_length=1024,\n        text_guidance_scale=5.0,\n        image_guidance_scale=2.0,\n        negative_prompt=negative_prompt,\n        num_images_per_prompt=1,\n        generator=gen,\n        output_type=\"pil\",\n    )\n    \n    # Display results\n    fig, (ax1, ax2) = plt.subplots(1, 2, figsize=(12, 6))\n    ax1.imshow(input_imgs[0])\n    ax1.set_title(\"Input Image\")\n    ax1.axis(\"off\")\n    \n    ax2.imshow(result.images[0])\n    ax2.set_title(\"Edited Image\")\n    ax2.axis(\"off\")\n    \n    plt.show()\n    return result.images[0]"
  }
 ],
 "metadata": {
  "kernelspec": {
   "display_name": "Python 3 (ipykernel)",
   "language": "python",
   "name": "python3"
  },
  "language_info": {
   "codemirror_mode": {
    "name": "ipython",
    "version": 3
   },
   "file_extension": ".py",
   "mimetype": "text/x-python",
   "name": "python",
   "nbconvert_exporter": "python",
   "pygments_lexer": "ipython3",
   "version": "3.11.13"
  }
 },
 "nbformat": 4,
 "nbformat_minor": 4
}